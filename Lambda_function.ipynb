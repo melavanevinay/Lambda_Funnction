{
 "cells": [
  {
   "cell_type": "markdown",
   "id": "8d011f69-802f-4a1a-82b7-9486458f1f96",
   "metadata": {},
   "source": [
    "# Lambda Function:"
   ]
  },
  {
   "cell_type": "markdown",
   "id": "faaf0d37-d894-479e-8970-4837c581ea89",
   "metadata": {},
   "source": [
    "## Lambda is small anonymous function. It can take number of arguments but will have single expression"
   ]
  },
  {
   "cell_type": "markdown",
   "id": "52ec3709-b0ee-4cbe-ab5f-c1297271b55d",
   "metadata": {},
   "source": [
    "## The simple function looks like "
   ]
  },
  {
   "cell_type": "code",
   "execution_count": 1,
   "id": "7941a422-20ac-44f5-904d-ab9c42e8b282",
   "metadata": {},
   "outputs": [],
   "source": [
    "def power(a,b):\n",
    "    c = a**b\n",
    "    return c"
   ]
  },
  {
   "cell_type": "code",
   "execution_count": 2,
   "id": "18edf070-0fa1-4473-be1d-0ee0d1b0fe49",
   "metadata": {},
   "outputs": [
    {
     "data": {
      "text/plain": [
       "16"
      ]
     },
     "execution_count": 2,
     "metadata": {},
     "output_type": "execute_result"
    }
   ],
   "source": [
    "power(4,2)"
   ]
  },
  {
   "cell_type": "markdown",
   "id": "3f0e443e-1269-4f36-b647-bc6d151c2e13",
   "metadata": {},
   "source": [
    "## By using Lambda function we can write it as :"
   ]
  },
  {
   "cell_type": "code",
   "execution_count": 3,
   "id": "be807b9a-1d34-4fe2-a60e-b1a6ee806724",
   "metadata": {},
   "outputs": [],
   "source": [
    "x = lambda a,b : a**b"
   ]
  },
  {
   "cell_type": "code",
   "execution_count": 5,
   "id": "2527217e-3311-4cde-acaf-f16eb18d4870",
   "metadata": {},
   "outputs": [
    {
     "name": "stdout",
     "output_type": "stream",
     "text": [
      "16\n"
     ]
    }
   ],
   "source": [
    "print(x(4,2))"
   ]
  },
  {
   "cell_type": "code",
   "execution_count": 6,
   "id": "e2673a64-b6bf-45b5-8740-c21ae8b50d20",
   "metadata": {},
   "outputs": [],
   "source": [
    "y= lambda c,d : c*d"
   ]
  },
  {
   "cell_type": "code",
   "execution_count": 7,
   "id": "e64738dc-c57e-4a6a-a52e-4eacd69fb897",
   "metadata": {},
   "outputs": [
    {
     "name": "stdout",
     "output_type": "stream",
     "text": [
      "20\n"
     ]
    }
   ],
   "source": [
    "print(y(4,5))"
   ]
  },
  {
   "cell_type": "markdown",
   "id": "a4d0daaa-e726-452c-9fb7-fb84248cdbe6",
   "metadata": {},
   "source": [
    "### Centigrade to farenhite concersion using lambda function:"
   ]
  },
  {
   "cell_type": "code",
   "execution_count": 10,
   "id": "da2969ba-68aa-4c72-941f-eeca721abc1f",
   "metadata": {},
   "outputs": [],
   "source": [
    "temp= lambda d : (9/5)*d+32"
   ]
  },
  {
   "cell_type": "code",
   "execution_count": 13,
   "id": "8e5f167f-3afc-410a-9771-6d767fb27277",
   "metadata": {},
   "outputs": [
    {
     "name": "stdout",
     "output_type": "stream",
     "text": [
      "73.4 Farenhite\n"
     ]
    }
   ],
   "source": [
    "print(temp(23), \"Farenhite\")"
   ]
  },
  {
   "cell_type": "markdown",
   "id": "22a682d9-29c1-4344-b6cc-93048edbd2a5",
   "metadata": {},
   "source": [
    "### Using If else condition (Large number): "
   ]
  },
  {
   "cell_type": "code",
   "execution_count": 1,
   "id": "12f5c6b8-e242-4041-96ec-78ae1bf18eb9",
   "metadata": {},
   "outputs": [],
   "source": [
    "Max_num = lambda x,y : x if x>y else y"
   ]
  },
  {
   "cell_type": "code",
   "execution_count": 2,
   "id": "380a80cc-c0ea-44a2-bbc3-7df4f864cd5a",
   "metadata": {},
   "outputs": [
    {
     "data": {
      "text/plain": [
       "63"
      ]
     },
     "execution_count": 2,
     "metadata": {},
     "output_type": "execute_result"
    }
   ],
   "source": [
    "Max_num(52,63)"
   ]
  },
  {
   "cell_type": "code",
   "execution_count": 3,
   "id": "665b0a9a-f2d0-4d4d-9259-2278dac7c21b",
   "metadata": {},
   "outputs": [],
   "source": [
    "def myfunc(n):\n",
    "    return lambda a : a * n"
   ]
  },
  {
   "cell_type": "code",
   "execution_count": 4,
   "id": "1d1ca9dc-a794-444b-90f7-577f348a694a",
   "metadata": {},
   "outputs": [
    {
     "data": {
      "text/plain": [
       "<function __main__.myfunc.<locals>.<lambda>(a)>"
      ]
     },
     "execution_count": 4,
     "metadata": {},
     "output_type": "execute_result"
    }
   ],
   "source": [
    "myfunc(2)"
   ]
  },
  {
   "cell_type": "markdown",
   "id": "f7ba05d9-1f8f-4eca-9ac4-aa91b0785e1a",
   "metadata": {},
   "source": [
    "## Doubler : "
   ]
  },
  {
   "cell_type": "code",
   "execution_count": 1,
   "id": "3fbf5042-ad29-4d43-a321-967eea75d046",
   "metadata": {},
   "outputs": [
    {
     "name": "stdout",
     "output_type": "stream",
     "text": [
      "44\n"
     ]
    }
   ],
   "source": [
    "def doubler(n):\n",
    "    return lambda a : a * n\n",
    "multiplyer = doubler(2)\n",
    "print(multiplyer(22))\n",
    "                    "
   ]
  },
  {
   "cell_type": "code",
   "execution_count": 3,
   "id": "1eb62979-5350-477f-b471-189ea0498e24",
   "metadata": {},
   "outputs": [],
   "source": [
    "double = lambda a : a*2"
   ]
  },
  {
   "cell_type": "code",
   "execution_count": 4,
   "id": "c32ab9e4-c13f-48de-b596-95b007bc2ba5",
   "metadata": {},
   "outputs": [
    {
     "name": "stdout",
     "output_type": "stream",
     "text": [
      "44\n"
     ]
    }
   ],
   "source": [
    "print(double(22))"
   ]
  },
  {
   "cell_type": "code",
   "execution_count": null,
   "id": "d4f8416d-b7a4-452c-9115-2faf0652614e",
   "metadata": {},
   "outputs": [],
   "source": []
  }
 ],
 "metadata": {
  "kernelspec": {
   "display_name": "Python 3 (ipykernel)",
   "language": "python",
   "name": "python3"
  },
  "language_info": {
   "codemirror_mode": {
    "name": "ipython",
    "version": 3
   },
   "file_extension": ".py",
   "mimetype": "text/x-python",
   "name": "python",
   "nbconvert_exporter": "python",
   "pygments_lexer": "ipython3",
   "version": "3.10.8"
  }
 },
 "nbformat": 4,
 "nbformat_minor": 5
}
